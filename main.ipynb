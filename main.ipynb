{
 "cells": [
  {
   "cell_type": "code",
   "execution_count": 79,
   "metadata": {
    "collapsed": true,
    "ExecuteTime": {
     "end_time": "2023-12-31T10:16:35.578944400Z",
     "start_time": "2023-12-31T10:16:35.559920700Z"
    }
   },
   "outputs": [],
   "source": [
    "import pandas as pd\n",
    "\n",
    "from simulate import init, simulate_n_times"
   ]
  },
  {
   "cell_type": "code",
   "execution_count": 80,
   "outputs": [
    {
     "name": "stdout",
     "output_type": "stream",
     "text": [
      "(0.5993630245442937, 3.7231125133883154, 0.14572706912678687)\n"
     ]
    }
   ],
   "source": [
    "em, l1 = init()\n",
    "print(simulate_n_times(n_sim=100, em=em, l1=l1, la=0.2, n=8))"
   ],
   "metadata": {
    "collapsed": false,
    "ExecuteTime": {
     "end_time": "2023-12-31T10:16:35.646282700Z",
     "start_time": "2023-12-31T10:16:35.572960200Z"
    }
   }
  },
  {
   "cell_type": "code",
   "execution_count": 87,
   "outputs": [
    {
     "data": {
      "text/plain": "     t_k1  mu_k2  t_k3  n_k2  lambda_customers  n_customers_values\n0       1  0.125     1     2               0.1                1000\n1       1  0.125     1     2               0.2                1000\n2       1  0.125     1     2               0.4                1000\n3       1  0.125     1     5               0.1                1000\n4       1  0.125     1     5               0.2                1000\n..    ...    ...   ...   ...               ...                 ...\n571    10  1.000     8     5               0.2                1000\n572    10  1.000     8     5               0.4                1000\n573    10  1.000     8     8               0.1                1000\n574    10  1.000     8     8               0.2                1000\n575    10  1.000     8     8               0.4                1000\n\n[576 rows x 6 columns]",
      "text/html": "<div>\n<style scoped>\n    .dataframe tbody tr th:only-of-type {\n        vertical-align: middle;\n    }\n\n    .dataframe tbody tr th {\n        vertical-align: top;\n    }\n\n    .dataframe thead th {\n        text-align: right;\n    }\n</style>\n<table border=\"1\" class=\"dataframe\">\n  <thead>\n    <tr style=\"text-align: right;\">\n      <th></th>\n      <th>t_k1</th>\n      <th>mu_k2</th>\n      <th>t_k3</th>\n      <th>n_k2</th>\n      <th>lambda_customers</th>\n      <th>n_customers_values</th>\n    </tr>\n  </thead>\n  <tbody>\n    <tr>\n      <th>0</th>\n      <td>1</td>\n      <td>0.125</td>\n      <td>1</td>\n      <td>2</td>\n      <td>0.1</td>\n      <td>1000</td>\n    </tr>\n    <tr>\n      <th>1</th>\n      <td>1</td>\n      <td>0.125</td>\n      <td>1</td>\n      <td>2</td>\n      <td>0.2</td>\n      <td>1000</td>\n    </tr>\n    <tr>\n      <th>2</th>\n      <td>1</td>\n      <td>0.125</td>\n      <td>1</td>\n      <td>2</td>\n      <td>0.4</td>\n      <td>1000</td>\n    </tr>\n    <tr>\n      <th>3</th>\n      <td>1</td>\n      <td>0.125</td>\n      <td>1</td>\n      <td>5</td>\n      <td>0.1</td>\n      <td>1000</td>\n    </tr>\n    <tr>\n      <th>4</th>\n      <td>1</td>\n      <td>0.125</td>\n      <td>1</td>\n      <td>5</td>\n      <td>0.2</td>\n      <td>1000</td>\n    </tr>\n    <tr>\n      <th>...</th>\n      <td>...</td>\n      <td>...</td>\n      <td>...</td>\n      <td>...</td>\n      <td>...</td>\n      <td>...</td>\n    </tr>\n    <tr>\n      <th>571</th>\n      <td>10</td>\n      <td>1.000</td>\n      <td>8</td>\n      <td>5</td>\n      <td>0.2</td>\n      <td>1000</td>\n    </tr>\n    <tr>\n      <th>572</th>\n      <td>10</td>\n      <td>1.000</td>\n      <td>8</td>\n      <td>5</td>\n      <td>0.4</td>\n      <td>1000</td>\n    </tr>\n    <tr>\n      <th>573</th>\n      <td>10</td>\n      <td>1.000</td>\n      <td>8</td>\n      <td>8</td>\n      <td>0.1</td>\n      <td>1000</td>\n    </tr>\n    <tr>\n      <th>574</th>\n      <td>10</td>\n      <td>1.000</td>\n      <td>8</td>\n      <td>8</td>\n      <td>0.2</td>\n      <td>1000</td>\n    </tr>\n    <tr>\n      <th>575</th>\n      <td>10</td>\n      <td>1.000</td>\n      <td>8</td>\n      <td>8</td>\n      <td>0.4</td>\n      <td>1000</td>\n    </tr>\n  </tbody>\n</table>\n<p>576 rows × 6 columns</p>\n</div>"
     },
     "execution_count": 87,
     "metadata": {},
     "output_type": "execute_result"
    }
   ],
   "source": [
    "import itertools\n",
    "\n",
    "t_k1_values = [1, 3, 5, 10]\n",
    "mu_k2_values = [1/8, 1/4, 1/2, 1]\n",
    "t_k3_values = [1, 2, 4, 8]\n",
    "n_k2_values = [2, 5, 8]\n",
    "n_customers_values = [1000]\n",
    "lambda_customers_values = [0.1, 0.2, 0.4]\n",
    "\n",
    "cartesian_product = list(\n",
    "    itertools.product(t_k1_values, mu_k2_values, t_k3_values, n_k2_values, lambda_customers_values, n_customers_values))\n",
    "\n",
    "df = pd.DataFrame(cartesian_product, columns=['t_k1', 'mu_k2', 't_k3', 'n_k2', 'lambda_customers', 'n_customers_values'])\n",
    "df"
   ],
   "metadata": {
    "collapsed": false,
    "ExecuteTime": {
     "end_time": "2023-12-31T10:22:39.659220600Z",
     "start_time": "2023-12-31T10:22:39.608839900Z"
    }
   }
  },
  {
   "cell_type": "code",
   "execution_count": 88,
   "outputs": [
    {
     "data": {
      "text/plain": "     t_k1  mu_k2  t_k3  n_k2  lambda_customers  n_customers_values  \\\n0       1  0.125     1     2               0.1                1000   \n1       1  0.125     1     2               0.2                1000   \n2       1  0.125     1     2               0.4                1000   \n3       1  0.125     1     5               0.1                1000   \n4       1  0.125     1     5               0.2                1000   \n..    ...    ...   ...   ...               ...                 ...   \n571    10  1.000     8     5               0.2                1000   \n572    10  1.000     8     5               0.4                1000   \n573    10  1.000     8     8               0.1                1000   \n574    10  1.000     8     8               0.2                1000   \n575    10  1.000     8     8               0.4                1000   \n\n     rejection_rate  avg_wait_time  avg_q_len  \n0          0.396425      13.179557   0.819287  \n1          0.476877      11.145966   0.802652  \n2          0.580441      11.007515   0.801343  \n3          0.257719      18.757750   1.410980  \n4          0.384329      16.530434   1.412028  \n..              ...            ...        ...  \n571        0.783220       0.000000   0.000000  \n572        0.870091       0.000000   0.000000  \n573        0.693408       0.000000   0.000000  \n574        0.782100       0.000000   0.000000  \n575        0.856531       0.000000   0.000000  \n\n[576 rows x 9 columns]",
      "text/html": "<div>\n<style scoped>\n    .dataframe tbody tr th:only-of-type {\n        vertical-align: middle;\n    }\n\n    .dataframe tbody tr th {\n        vertical-align: top;\n    }\n\n    .dataframe thead th {\n        text-align: right;\n    }\n</style>\n<table border=\"1\" class=\"dataframe\">\n  <thead>\n    <tr style=\"text-align: right;\">\n      <th></th>\n      <th>t_k1</th>\n      <th>mu_k2</th>\n      <th>t_k3</th>\n      <th>n_k2</th>\n      <th>lambda_customers</th>\n      <th>n_customers_values</th>\n      <th>rejection_rate</th>\n      <th>avg_wait_time</th>\n      <th>avg_q_len</th>\n    </tr>\n  </thead>\n  <tbody>\n    <tr>\n      <th>0</th>\n      <td>1</td>\n      <td>0.125</td>\n      <td>1</td>\n      <td>2</td>\n      <td>0.1</td>\n      <td>1000</td>\n      <td>0.396425</td>\n      <td>13.179557</td>\n      <td>0.819287</td>\n    </tr>\n    <tr>\n      <th>1</th>\n      <td>1</td>\n      <td>0.125</td>\n      <td>1</td>\n      <td>2</td>\n      <td>0.2</td>\n      <td>1000</td>\n      <td>0.476877</td>\n      <td>11.145966</td>\n      <td>0.802652</td>\n    </tr>\n    <tr>\n      <th>2</th>\n      <td>1</td>\n      <td>0.125</td>\n      <td>1</td>\n      <td>2</td>\n      <td>0.4</td>\n      <td>1000</td>\n      <td>0.580441</td>\n      <td>11.007515</td>\n      <td>0.801343</td>\n    </tr>\n    <tr>\n      <th>3</th>\n      <td>1</td>\n      <td>0.125</td>\n      <td>1</td>\n      <td>5</td>\n      <td>0.1</td>\n      <td>1000</td>\n      <td>0.257719</td>\n      <td>18.757750</td>\n      <td>1.410980</td>\n    </tr>\n    <tr>\n      <th>4</th>\n      <td>1</td>\n      <td>0.125</td>\n      <td>1</td>\n      <td>5</td>\n      <td>0.2</td>\n      <td>1000</td>\n      <td>0.384329</td>\n      <td>16.530434</td>\n      <td>1.412028</td>\n    </tr>\n    <tr>\n      <th>...</th>\n      <td>...</td>\n      <td>...</td>\n      <td>...</td>\n      <td>...</td>\n      <td>...</td>\n      <td>...</td>\n      <td>...</td>\n      <td>...</td>\n      <td>...</td>\n    </tr>\n    <tr>\n      <th>571</th>\n      <td>10</td>\n      <td>1.000</td>\n      <td>8</td>\n      <td>5</td>\n      <td>0.2</td>\n      <td>1000</td>\n      <td>0.783220</td>\n      <td>0.000000</td>\n      <td>0.000000</td>\n    </tr>\n    <tr>\n      <th>572</th>\n      <td>10</td>\n      <td>1.000</td>\n      <td>8</td>\n      <td>5</td>\n      <td>0.4</td>\n      <td>1000</td>\n      <td>0.870091</td>\n      <td>0.000000</td>\n      <td>0.000000</td>\n    </tr>\n    <tr>\n      <th>573</th>\n      <td>10</td>\n      <td>1.000</td>\n      <td>8</td>\n      <td>8</td>\n      <td>0.1</td>\n      <td>1000</td>\n      <td>0.693408</td>\n      <td>0.000000</td>\n      <td>0.000000</td>\n    </tr>\n    <tr>\n      <th>574</th>\n      <td>10</td>\n      <td>1.000</td>\n      <td>8</td>\n      <td>8</td>\n      <td>0.2</td>\n      <td>1000</td>\n      <td>0.782100</td>\n      <td>0.000000</td>\n      <td>0.000000</td>\n    </tr>\n    <tr>\n      <th>575</th>\n      <td>10</td>\n      <td>1.000</td>\n      <td>8</td>\n      <td>8</td>\n      <td>0.4</td>\n      <td>1000</td>\n      <td>0.856531</td>\n      <td>0.000000</td>\n      <td>0.000000</td>\n    </tr>\n  </tbody>\n</table>\n<p>576 rows × 9 columns</p>\n</div>"
     },
     "execution_count": 88,
     "metadata": {},
     "output_type": "execute_result"
    }
   ],
   "source": [
    "results = []\n",
    "for index, row in df.iterrows():\n",
    "    t_k1 = row['t_k1']\n",
    "    mu_k2 = row['mu_k2']\n",
    "    t_k3 = row['t_k3']\n",
    "    n_k2 = row['n_k2']\n",
    "    lambda_customers = row['lambda_customers']\n",
    "\n",
    "    em, l1 = init(t_k1=t_k1, mu_k2=mu_k2, t_k3=t_k3, capacity_q2=n_k2)\n",
    "    result = simulate_n_times(n_sim=100, em=em, l1=l1, la=lambda_customers, n=8)\n",
    "\n",
    "    results.append(result)\n",
    "\n",
    "results_df = pd.DataFrame(results, columns=['rejection_rate', 'avg_wait_time', 'avg_q_len'])\n",
    "df = pd.concat([df, results_df], axis=1)\n",
    "df"
   ],
   "metadata": {
    "collapsed": false,
    "ExecuteTime": {
     "end_time": "2023-12-31T10:23:11.418341800Z",
     "start_time": "2023-12-31T10:22:40.096380200Z"
    }
   }
  },
  {
   "cell_type": "code",
   "execution_count": 82,
   "outputs": [],
   "source": [],
   "metadata": {
    "collapsed": false,
    "ExecuteTime": {
     "end_time": "2023-12-31T10:16:35.812878700Z",
     "start_time": "2023-12-31T10:16:35.785946700Z"
    }
   }
  }
 ],
 "metadata": {
  "kernelspec": {
   "display_name": "Python 3",
   "language": "python",
   "name": "python3"
  },
  "language_info": {
   "codemirror_mode": {
    "name": "ipython",
    "version": 2
   },
   "file_extension": ".py",
   "mimetype": "text/x-python",
   "name": "python",
   "nbconvert_exporter": "python",
   "pygments_lexer": "ipython2",
   "version": "2.7.6"
  }
 },
 "nbformat": 4,
 "nbformat_minor": 0
}
